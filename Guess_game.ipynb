{
 "cells": [
  {
   "cell_type": "markdown",
   "metadata": {},
   "source": [
    "### Guess game\n"
   ]
  },
  {
   "cell_type": "code",
   "execution_count": null,
   "metadata": {},
   "outputs": [],
   "source": [
    "%%writefile Guess_game.py\n",
    "\n",
    "def is_player_win(comGuess, userGuess):\n",
    "    flag = False\n",
    "    if comGuess > userGuess:\n",
    "        print(\"\\n\\n\")\n",
    "        print(\"Hint: Be big think big\".center(100))\n",
    "        \n",
    "    elif comGuess< userGuess:\n",
    "        print(\"\\n\\n\")\n",
    "        print(\"Hint: be in limits think lower\")\n",
    "        \n",
    "    else:\n",
    "        print(\"\\n\\n\")\n",
    "        print(\"!!Winner \")\n",
    "        flag = True\n",
    "    return flag\n",
    "def is_valid(num):\n",
    "    if num <1 or num>50:\n",
    "        print(\"\\n\\n\")\n",
    "        print(f'warning ')\n",
    "        flag = False\n",
    "    return flag\n",
    "def decorate():\n",
    "    print(\"\\n\\n\")\n",
    "    print(\"__\"*50)\n",
    "    print(\"__\"*50)\n",
    "    print(\"\\n\\n\")\n",
    "def Guess_game():\n",
    "    import os\n",
    "    os.system('cls')\n",
    "    decorate()\n",
    "    from random import randint\n",
    "    comGuess = random.randint(1,50)\n",
    "    chances = 5\n",
    "    while chances !=0:\n",
    "        userGuess = int(input(\"Enter your Gess : \"))\n",
    "        if not is_valid(userGuess):\n",
    "            continue\n",
    "        if not is_player_win(comGuess , userGuess):\n",
    "            break\n",
    "        chances -= 1\n",
    "    else:\n",
    "        print(\"\\n\\n\")\n",
    "        print(\"you are a losser\")\n",
    "        decorate()\n",
    "while True:\n",
    "    Guess_game()\n",
    "    \n",
    "    ch = input(\"write yes to play again\").lower().strip()\n",
    "    if ch != 'yes' and ch != 'y':\n",
    "        break\n",
    "    else:\n",
    "        break"
   ]
  }
 ],
 "metadata": {
  "kernelspec": {
   "display_name": "Python 3",
   "language": "python",
   "name": "python3"
  },
  "language_info": {
   "codemirror_mode": {
    "name": "ipython",
    "version": 3
   },
   "file_extension": ".py",
   "mimetype": "text/x-python",
   "name": "python",
   "nbconvert_exporter": "python",
   "pygments_lexer": "ipython3",
   "version": "3.8.3"
  }
 },
 "nbformat": 4,
 "nbformat_minor": 4
}
